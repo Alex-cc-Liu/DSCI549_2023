{
  "cells": [
    {
      "cell_type": "markdown",
      "metadata": {
        "id": "h6P5nezFDNNY"
      },
      "source": [
        "# Understanding traffic collisions in LA county\n",
        "\n",
        "The goal of this exercise is to perform some basic data exploration to understand the data we wish to work with.\n",
        "\n",
        "The dataset is available from https://data.lacity.org/A-Safe-City/Traffic-Collision-Data-from-2010-to-Present/d5tf-ez2w. You can try to download directly using wget. If the connection fails, download manually onto your computer and upload to Collab. If you do so, make sure to name the file: 'Traffic_Collision_Data.csv'.\n",
        "\n",
        "`wget` is a command line utility to download files from the web."
      ]
    },
    {
      "cell_type": "code",
      "execution_count": 1,
      "metadata": {
        "id": "FAexzUuODgOI"
      },
      "outputs": [
        {
          "name": "stdout",
          "output_type": "stream",
          "text": [
            "Requirement already satisfied: wget in /Users/liuyucheng/anaconda3/envs/py38/lib/python3.8/site-packages (3.2)\n",
            "Note: you may need to restart the kernel to use updated packages.\n"
          ]
        }
      ],
      "source": [
        "pip install wget"
      ]
    },
    {
      "cell_type": "code",
      "execution_count": 2,
      "metadata": {
        "id": "DwhvDHAUD3uG"
      },
      "outputs": [
        {
          "data": {
            "text/plain": [
              "'Traffic_Collision_Data.csv'"
            ]
          },
          "execution_count": 2,
          "metadata": {},
          "output_type": "execute_result"
        }
      ],
      "source": [
        "import wget\n",
        "wget.download('https://data.lacity.org/api/views/d5tf-ez2w/rows.csv?accessType=DOWNLOAD','Traffic_Collision_Data.csv')"
      ]
    },
    {
      "cell_type": "markdown",
      "metadata": {
        "id": "8ZFQWeLiEXHr"
      },
      "source": [
        "## Exploring tabular data\n",
        "\n",
        "The collision data is in tabular format. Next, we will load some libraries that will allow you to visualize the data."
      ]
    },
    {
      "cell_type": "code",
      "execution_count": 3,
      "metadata": {
        "id": "akoNVxtUEbGy"
      },
      "outputs": [
        {
          "data": {
            "text/html": [
              "        <script type=\"text/javascript\">\n",
              "        window.PlotlyConfig = {MathJaxConfig: 'local'};\n",
              "        if (window.MathJax && window.MathJax.Hub && window.MathJax.Hub.Config) {window.MathJax.Hub.Config({SVG: {font: \"STIX-Web\"}});}\n",
              "        if (typeof require !== 'undefined') {\n",
              "        require.undef(\"plotly\");\n",
              "        requirejs.config({\n",
              "            paths: {\n",
              "                'plotly': ['https://cdn.plot.ly/plotly-2.25.2.min']\n",
              "            }\n",
              "        });\n",
              "        require(['plotly'], function(Plotly) {\n",
              "            window._Plotly = Plotly;\n",
              "        });\n",
              "        }\n",
              "        </script>\n",
              "        "
            ]
          },
          "metadata": {},
          "output_type": "display_data"
        }
      ],
      "source": [
        "import pandas as pd\n",
        "import numpy as np\n",
        "import seaborn as sns\n",
        "import matplotlib.pyplot as plt\n",
        "import plotly.offline as py\n",
        "py.init_notebook_mode(connected=True)\n",
        "import plotly.graph_objs as go\n",
        "import plotly.tools as tls\n",
        "import datetime"
      ]
    },
    {
      "cell_type": "markdown",
      "metadata": {
        "id": "JlUG6jShExUN"
      },
      "source": [
        "Let's read the data in. If you're interested in the code, the csv was imported into a pandas dataframe. Pandas is a widly use library to deal with this kind of data.\n",
        "\n",
        "`df.head` prints out the column name and the first few rows."
      ]
    },
    {
      "cell_type": "code",
      "execution_count": 4,
      "metadata": {
        "id": "6s06ftRpEy90"
      },
      "outputs": [
        {
          "data": {
            "text/html": [
              "<div>\n",
              "<style scoped>\n",
              "    .dataframe tbody tr th:only-of-type {\n",
              "        vertical-align: middle;\n",
              "    }\n",
              "\n",
              "    .dataframe tbody tr th {\n",
              "        vertical-align: top;\n",
              "    }\n",
              "\n",
              "    .dataframe thead th {\n",
              "        text-align: right;\n",
              "    }\n",
              "</style>\n",
              "<table border=\"1\" class=\"dataframe\">\n",
              "  <thead>\n",
              "    <tr style=\"text-align: right;\">\n",
              "      <th></th>\n",
              "      <th>DR Number</th>\n",
              "      <th>Date Reported</th>\n",
              "      <th>Date Occurred</th>\n",
              "      <th>Time Occurred</th>\n",
              "      <th>Area ID</th>\n",
              "      <th>Area Name</th>\n",
              "      <th>Reporting District</th>\n",
              "      <th>Crime Code</th>\n",
              "      <th>Crime Code Description</th>\n",
              "      <th>MO Codes</th>\n",
              "      <th>Victim Age</th>\n",
              "      <th>Victim Sex</th>\n",
              "      <th>Victim Descent</th>\n",
              "      <th>Premise Code</th>\n",
              "      <th>Premise Description</th>\n",
              "      <th>Address</th>\n",
              "      <th>Cross Street</th>\n",
              "      <th>Location</th>\n",
              "    </tr>\n",
              "  </thead>\n",
              "  <tbody>\n",
              "    <tr>\n",
              "      <th>0</th>\n",
              "      <td>190319651</td>\n",
              "      <td>08/24/2019</td>\n",
              "      <td>08/24/2019</td>\n",
              "      <td>450</td>\n",
              "      <td>3</td>\n",
              "      <td>Southwest</td>\n",
              "      <td>356</td>\n",
              "      <td>997</td>\n",
              "      <td>TRAFFIC COLLISION</td>\n",
              "      <td>3036 3004 3026 3101 4003</td>\n",
              "      <td>22.0</td>\n",
              "      <td>M</td>\n",
              "      <td>H</td>\n",
              "      <td>101.0</td>\n",
              "      <td>STREET</td>\n",
              "      <td>JEFFERSON                    BL</td>\n",
              "      <td>NORMANDIE                    AV</td>\n",
              "      <td>(34.0255, -118.3002)</td>\n",
              "    </tr>\n",
              "    <tr>\n",
              "      <th>1</th>\n",
              "      <td>190319680</td>\n",
              "      <td>08/30/2019</td>\n",
              "      <td>08/30/2019</td>\n",
              "      <td>2320</td>\n",
              "      <td>3</td>\n",
              "      <td>Southwest</td>\n",
              "      <td>355</td>\n",
              "      <td>997</td>\n",
              "      <td>TRAFFIC COLLISION</td>\n",
              "      <td>3037 3006 3028 3030 3039 3101 4003</td>\n",
              "      <td>30.0</td>\n",
              "      <td>F</td>\n",
              "      <td>H</td>\n",
              "      <td>101.0</td>\n",
              "      <td>STREET</td>\n",
              "      <td>JEFFERSON                    BL</td>\n",
              "      <td>W  WESTERN</td>\n",
              "      <td>(34.0256, -118.3089)</td>\n",
              "    </tr>\n",
              "    <tr>\n",
              "      <th>2</th>\n",
              "      <td>190413769</td>\n",
              "      <td>08/25/2019</td>\n",
              "      <td>08/25/2019</td>\n",
              "      <td>545</td>\n",
              "      <td>4</td>\n",
              "      <td>Hollenbeck</td>\n",
              "      <td>422</td>\n",
              "      <td>997</td>\n",
              "      <td>TRAFFIC COLLISION</td>\n",
              "      <td>3101 3401 3701 3006 3030</td>\n",
              "      <td>NaN</td>\n",
              "      <td>M</td>\n",
              "      <td>X</td>\n",
              "      <td>101.0</td>\n",
              "      <td>STREET</td>\n",
              "      <td>N  BROADWAY</td>\n",
              "      <td>W  EASTLAKE                     AV</td>\n",
              "      <td>(34.0738, -118.2078)</td>\n",
              "    </tr>\n",
              "    <tr>\n",
              "      <th>3</th>\n",
              "      <td>190127578</td>\n",
              "      <td>11/20/2019</td>\n",
              "      <td>11/20/2019</td>\n",
              "      <td>350</td>\n",
              "      <td>1</td>\n",
              "      <td>Central</td>\n",
              "      <td>128</td>\n",
              "      <td>997</td>\n",
              "      <td>TRAFFIC COLLISION</td>\n",
              "      <td>0605 3101 3401 3701 3011 3034</td>\n",
              "      <td>21.0</td>\n",
              "      <td>M</td>\n",
              "      <td>H</td>\n",
              "      <td>101.0</td>\n",
              "      <td>STREET</td>\n",
              "      <td>1ST</td>\n",
              "      <td>CENTRAL</td>\n",
              "      <td>(34.0492, -118.2391)</td>\n",
              "    </tr>\n",
              "    <tr>\n",
              "      <th>4</th>\n",
              "      <td>190319695</td>\n",
              "      <td>08/30/2019</td>\n",
              "      <td>08/30/2019</td>\n",
              "      <td>2100</td>\n",
              "      <td>3</td>\n",
              "      <td>Southwest</td>\n",
              "      <td>374</td>\n",
              "      <td>997</td>\n",
              "      <td>TRAFFIC COLLISION</td>\n",
              "      <td>0605 4025 3037 3004 3025 3101</td>\n",
              "      <td>49.0</td>\n",
              "      <td>M</td>\n",
              "      <td>B</td>\n",
              "      <td>101.0</td>\n",
              "      <td>STREET</td>\n",
              "      <td>MARTIN LUTHER KING JR</td>\n",
              "      <td>ARLINGTON                    AV</td>\n",
              "      <td>(34.0108, -118.3182)</td>\n",
              "    </tr>\n",
              "  </tbody>\n",
              "</table>\n",
              "</div>"
            ],
            "text/plain": [
              "   DR Number Date Reported Date Occurred  Time Occurred  Area ID   Area Name  \\\n",
              "0  190319651    08/24/2019    08/24/2019            450        3   Southwest   \n",
              "1  190319680    08/30/2019    08/30/2019           2320        3   Southwest   \n",
              "2  190413769    08/25/2019    08/25/2019            545        4  Hollenbeck   \n",
              "3  190127578    11/20/2019    11/20/2019            350        1     Central   \n",
              "4  190319695    08/30/2019    08/30/2019           2100        3   Southwest   \n",
              "\n",
              "   Reporting District  Crime Code Crime Code Description  \\\n",
              "0                 356         997      TRAFFIC COLLISION   \n",
              "1                 355         997      TRAFFIC COLLISION   \n",
              "2                 422         997      TRAFFIC COLLISION   \n",
              "3                 128         997      TRAFFIC COLLISION   \n",
              "4                 374         997      TRAFFIC COLLISION   \n",
              "\n",
              "                             MO Codes  Victim Age Victim Sex Victim Descent  \\\n",
              "0            3036 3004 3026 3101 4003        22.0          M              H   \n",
              "1  3037 3006 3028 3030 3039 3101 4003        30.0          F              H   \n",
              "2            3101 3401 3701 3006 3030         NaN          M              X   \n",
              "3       0605 3101 3401 3701 3011 3034        21.0          M              H   \n",
              "4       0605 4025 3037 3004 3025 3101        49.0          M              B   \n",
              "\n",
              "   Premise Code Premise Description                          Address  \\\n",
              "0         101.0              STREET  JEFFERSON                    BL   \n",
              "1         101.0              STREET  JEFFERSON                    BL   \n",
              "2         101.0              STREET                      N  BROADWAY   \n",
              "3         101.0              STREET                              1ST   \n",
              "4         101.0              STREET            MARTIN LUTHER KING JR   \n",
              "\n",
              "                         Cross Street              Location  \n",
              "0     NORMANDIE                    AV  (34.0255, -118.3002)  \n",
              "1                          W  WESTERN  (34.0256, -118.3089)  \n",
              "2  W  EASTLAKE                     AV  (34.0738, -118.2078)  \n",
              "3                             CENTRAL  (34.0492, -118.2391)  \n",
              "4     ARLINGTON                    AV  (34.0108, -118.3182)  "
            ]
          },
          "execution_count": 4,
          "metadata": {},
          "output_type": "execute_result"
        }
      ],
      "source": [
        "df = pd.read_csv(\"Traffic_Collision_Data.csv\")\n",
        "df.head()"
      ]
    },
    {
      "cell_type": "markdown",
      "metadata": {
        "id": "04GFxnNHE-G-"
      },
      "source": [
        "**Question**: Describe the information contained in each column of the dataframe. Do not just list the name of the columns. (10 points)"
      ]
    },
    {
      "cell_type": "markdown",
      "metadata": {},
      "source": [
        "**Answer**: There are 596795 records of collisions in the table. each record is described as 18 attributes in the table. Some of them are the date and time the collision happened and being recorded. Some of them are the information of the place (Such as where the collision was reported, what is the area name of the place.). Besides, There are also some details about the victim. For example, the sex of the victim and the age of them. The DR Number is also recorded for each collision, I giess it may be the index for each collision. The  specific explaination are as follows.\n",
        "\n",
        "1. DR Number: Division of Records Number: Official file number made up of a 2 digit year, area ID, and 5 digits.\n",
        "\n",
        "2. Date Reported: The date when the collison is reported.\n",
        "\n",
        "3. Date Occurred: When the collion happened.\n",
        "\n",
        "4. Time Occurred: What time is it when the collision occured。\n",
        "\n",
        "5. Area ID: The ID of the area where the collision happened.\n",
        "\n",
        "6. Area Name: The name of the area.\n",
        "\n",
        "7. Reporting District: the code of the district where the collision occurred.\n",
        "\n",
        "8. Crime Code: The tyoe of the collision.\n",
        "\n",
        "9.  Crime Code Description: What's the crime code representing for.\n",
        "\n",
        "10. MO Codes: Modus Operandi: Activities associated with the suspect in commission of the crime.\n",
        "\n",
        "11. Victim Age: The age of the victim.\n",
        "\n",
        "12. Victim Sex: The gendar of the victim.\n",
        "\n",
        "13. Victim Descent: Different code for different descent of people\n",
        "\n",
        "14. Premise Code: The type of structure or location where the incident took place.\n",
        "\n",
        "15. Premise Description: Defines the Premise Code provided.\n",
        "\n",
        "16. Address: Street address of crime incident rounded to the nearest hundred block to maintain anonymity.\n",
        "\n",
        "17. Cross Street: Cross Street of rounded Address.\n",
        "\n",
        "18. Location: The location where the crime incident occurred. Actual address is omitted for confidentiality. XY coordinates reflect the nearest 100 block.\n",
        "\n",
        "\n",
        "Reference: https://data.lacity.org/Public-Safety/Traffic-Collision-Data-from-2010-to-Present/d5tf-ez2w\n"
      ]
    },
    {
      "cell_type": "markdown",
      "metadata": {},
      "source": [
        "\n",
        "The `df.shape` function gives you information about the number of lines and columns present in the tabular data."
      ]
    },
    {
      "cell_type": "code",
      "execution_count": 5,
      "metadata": {
        "id": "lnCL_AByFuh0"
      },
      "outputs": [
        {
          "data": {
            "text/plain": [
              "(596795, 18)"
            ]
          },
          "execution_count": 5,
          "metadata": {},
          "output_type": "execute_result"
        }
      ],
      "source": [
        "df.shape"
      ]
    },
    {
      "cell_type": "markdown",
      "metadata": {
        "id": "dQlpmcuOFiKw"
      },
      "source": [
        "The `df.info()` function allows you to output the name of the columns, the number of non-null values in each column, giving you a quick overview about the number of missing data, as well as the format of the data."
      ]
    },
    {
      "cell_type": "code",
      "execution_count": 6,
      "metadata": {
        "id": "v_tb-u7aFHK_"
      },
      "outputs": [
        {
          "name": "stdout",
          "output_type": "stream",
          "text": [
            "<class 'pandas.core.frame.DataFrame'>\n",
            "RangeIndex: 596795 entries, 0 to 596794\n",
            "Data columns (total 18 columns):\n",
            " #   Column                  Non-Null Count   Dtype  \n",
            "---  ------                  --------------   -----  \n",
            " 0   DR Number               596795 non-null  int64  \n",
            " 1   Date Reported           596795 non-null  object \n",
            " 2   Date Occurred           596795 non-null  object \n",
            " 3   Time Occurred           596795 non-null  int64  \n",
            " 4   Area ID                 596795 non-null  int64  \n",
            " 5   Area Name               596795 non-null  object \n",
            " 6   Reporting District      596795 non-null  int64  \n",
            " 7   Crime Code              596795 non-null  int64  \n",
            " 8   Crime Code Description  596795 non-null  object \n",
            " 9   MO Codes                509637 non-null  object \n",
            " 10  Victim Age              511212 non-null  float64\n",
            " 11  Victim Sex              586844 non-null  object \n",
            " 12  Victim Descent          585906 non-null  object \n",
            " 13  Premise Code            595836 non-null  float64\n",
            " 14  Premise Description     595835 non-null  object \n",
            " 15  Address                 596795 non-null  object \n",
            " 16  Cross Street            568562 non-null  object \n",
            " 17  Location                596795 non-null  object \n",
            "dtypes: float64(2), int64(5), object(11)\n",
            "memory usage: 82.0+ MB\n"
          ]
        }
      ],
      "source": [
        "df.info()"
      ]
    },
    {
      "cell_type": "markdown",
      "metadata": {
        "id": "oX4wq6wGF36z"
      },
      "source": [
        "**Question:** Based on the shape and information, which variables have null values associated with them? How did you come to this conclusion? (10 points)"
      ]
    },
    {
      "cell_type": "markdown",
      "metadata": {},
      "source": [
        "**Answer**: According to the output of the code, I find that there are 596795 recordings in the table. for each fields in the table if the term of \"None-Null Count\" is lower than the total number (596795). It means that there are some recording has the non value in this field. According to this, the fields of MO Codes, Victim Age, Victim Descent, Victim Sex, Premise Code, Premise Description, and Cross Street has the non value in some reacordings."
      ]
    },
    {
      "cell_type": "markdown",
      "metadata": {},
      "source": [
        "\n",
        "The cell below encodes the same calculation in one line code that you can use to look at how many rows have missing information."
      ]
    },
    {
      "cell_type": "code",
      "execution_count": 7,
      "metadata": {
        "id": "DHUXu5lWFbNp"
      },
      "outputs": [
        {
          "data": {
            "text/plain": [
              "DR Number                     0\n",
              "Date Reported                 0\n",
              "Date Occurred                 0\n",
              "Time Occurred                 0\n",
              "Area ID                       0\n",
              "Area Name                     0\n",
              "Reporting District            0\n",
              "Crime Code                    0\n",
              "Crime Code Description        0\n",
              "MO Codes                  87158\n",
              "Victim Age                85583\n",
              "Victim Sex                 9951\n",
              "Victim Descent            10889\n",
              "Premise Code                959\n",
              "Premise Description         960\n",
              "Address                       0\n",
              "Cross Street              28233\n",
              "Location                      0\n",
              "dtype: int64"
            ]
          },
          "execution_count": 7,
          "metadata": {},
          "output_type": "execute_result"
        }
      ],
      "source": [
        "df.isnull().sum()"
      ]
    },
    {
      "cell_type": "markdown",
      "metadata": {
        "id": "2b-dnVyIGvX9"
      },
      "source": [
        "Python can reason with time information. To do so, it uses the datatime format. You can transform the strings contained in the table to datetime using the following:"
      ]
    },
    {
      "cell_type": "code",
      "execution_count": 8,
      "metadata": {
        "id": "d0w4IU40GVvn"
      },
      "outputs": [
        {
          "data": {
            "text/html": [
              "<div>\n",
              "<style scoped>\n",
              "    .dataframe tbody tr th:only-of-type {\n",
              "        vertical-align: middle;\n",
              "    }\n",
              "\n",
              "    .dataframe tbody tr th {\n",
              "        vertical-align: top;\n",
              "    }\n",
              "\n",
              "    .dataframe thead th {\n",
              "        text-align: right;\n",
              "    }\n",
              "</style>\n",
              "<table border=\"1\" class=\"dataframe\">\n",
              "  <thead>\n",
              "    <tr style=\"text-align: right;\">\n",
              "      <th></th>\n",
              "      <th>DR Number</th>\n",
              "      <th>Date Reported</th>\n",
              "      <th>Date Occurred</th>\n",
              "      <th>Time Occurred</th>\n",
              "      <th>Area ID</th>\n",
              "      <th>Area Name</th>\n",
              "      <th>Reporting District</th>\n",
              "      <th>Crime Code</th>\n",
              "      <th>Crime Code Description</th>\n",
              "      <th>MO Codes</th>\n",
              "      <th>Victim Age</th>\n",
              "      <th>Victim Sex</th>\n",
              "      <th>Victim Descent</th>\n",
              "      <th>Premise Code</th>\n",
              "      <th>Premise Description</th>\n",
              "      <th>Address</th>\n",
              "      <th>Cross Street</th>\n",
              "      <th>Location</th>\n",
              "      <th>Year Reported</th>\n",
              "      <th>Year Occurred</th>\n",
              "    </tr>\n",
              "  </thead>\n",
              "  <tbody>\n",
              "    <tr>\n",
              "      <th>0</th>\n",
              "      <td>190319651</td>\n",
              "      <td>08/24/2019</td>\n",
              "      <td>08/24/2019</td>\n",
              "      <td>450</td>\n",
              "      <td>3</td>\n",
              "      <td>Southwest</td>\n",
              "      <td>356</td>\n",
              "      <td>997</td>\n",
              "      <td>TRAFFIC COLLISION</td>\n",
              "      <td>3036 3004 3026 3101 4003</td>\n",
              "      <td>22.0</td>\n",
              "      <td>M</td>\n",
              "      <td>H</td>\n",
              "      <td>101.0</td>\n",
              "      <td>STREET</td>\n",
              "      <td>JEFFERSON                    BL</td>\n",
              "      <td>NORMANDIE                    AV</td>\n",
              "      <td>(34.0255, -118.3002)</td>\n",
              "      <td>2019</td>\n",
              "      <td>2019</td>\n",
              "    </tr>\n",
              "    <tr>\n",
              "      <th>1</th>\n",
              "      <td>190319680</td>\n",
              "      <td>08/30/2019</td>\n",
              "      <td>08/30/2019</td>\n",
              "      <td>2320</td>\n",
              "      <td>3</td>\n",
              "      <td>Southwest</td>\n",
              "      <td>355</td>\n",
              "      <td>997</td>\n",
              "      <td>TRAFFIC COLLISION</td>\n",
              "      <td>3037 3006 3028 3030 3039 3101 4003</td>\n",
              "      <td>30.0</td>\n",
              "      <td>F</td>\n",
              "      <td>H</td>\n",
              "      <td>101.0</td>\n",
              "      <td>STREET</td>\n",
              "      <td>JEFFERSON                    BL</td>\n",
              "      <td>W  WESTERN</td>\n",
              "      <td>(34.0256, -118.3089)</td>\n",
              "      <td>2019</td>\n",
              "      <td>2019</td>\n",
              "    </tr>\n",
              "    <tr>\n",
              "      <th>2</th>\n",
              "      <td>190413769</td>\n",
              "      <td>08/25/2019</td>\n",
              "      <td>08/25/2019</td>\n",
              "      <td>545</td>\n",
              "      <td>4</td>\n",
              "      <td>Hollenbeck</td>\n",
              "      <td>422</td>\n",
              "      <td>997</td>\n",
              "      <td>TRAFFIC COLLISION</td>\n",
              "      <td>3101 3401 3701 3006 3030</td>\n",
              "      <td>NaN</td>\n",
              "      <td>M</td>\n",
              "      <td>X</td>\n",
              "      <td>101.0</td>\n",
              "      <td>STREET</td>\n",
              "      <td>N  BROADWAY</td>\n",
              "      <td>W  EASTLAKE                     AV</td>\n",
              "      <td>(34.0738, -118.2078)</td>\n",
              "      <td>2019</td>\n",
              "      <td>2019</td>\n",
              "    </tr>\n",
              "    <tr>\n",
              "      <th>3</th>\n",
              "      <td>190127578</td>\n",
              "      <td>11/20/2019</td>\n",
              "      <td>11/20/2019</td>\n",
              "      <td>350</td>\n",
              "      <td>1</td>\n",
              "      <td>Central</td>\n",
              "      <td>128</td>\n",
              "      <td>997</td>\n",
              "      <td>TRAFFIC COLLISION</td>\n",
              "      <td>0605 3101 3401 3701 3011 3034</td>\n",
              "      <td>21.0</td>\n",
              "      <td>M</td>\n",
              "      <td>H</td>\n",
              "      <td>101.0</td>\n",
              "      <td>STREET</td>\n",
              "      <td>1ST</td>\n",
              "      <td>CENTRAL</td>\n",
              "      <td>(34.0492, -118.2391)</td>\n",
              "      <td>2019</td>\n",
              "      <td>2019</td>\n",
              "    </tr>\n",
              "    <tr>\n",
              "      <th>4</th>\n",
              "      <td>190319695</td>\n",
              "      <td>08/30/2019</td>\n",
              "      <td>08/30/2019</td>\n",
              "      <td>2100</td>\n",
              "      <td>3</td>\n",
              "      <td>Southwest</td>\n",
              "      <td>374</td>\n",
              "      <td>997</td>\n",
              "      <td>TRAFFIC COLLISION</td>\n",
              "      <td>0605 4025 3037 3004 3025 3101</td>\n",
              "      <td>49.0</td>\n",
              "      <td>M</td>\n",
              "      <td>B</td>\n",
              "      <td>101.0</td>\n",
              "      <td>STREET</td>\n",
              "      <td>MARTIN LUTHER KING JR</td>\n",
              "      <td>ARLINGTON                    AV</td>\n",
              "      <td>(34.0108, -118.3182)</td>\n",
              "      <td>2019</td>\n",
              "      <td>2019</td>\n",
              "    </tr>\n",
              "  </tbody>\n",
              "</table>\n",
              "</div>"
            ],
            "text/plain": [
              "   DR Number Date Reported Date Occurred  Time Occurred  Area ID   Area Name  \\\n",
              "0  190319651    08/24/2019    08/24/2019            450        3   Southwest   \n",
              "1  190319680    08/30/2019    08/30/2019           2320        3   Southwest   \n",
              "2  190413769    08/25/2019    08/25/2019            545        4  Hollenbeck   \n",
              "3  190127578    11/20/2019    11/20/2019            350        1     Central   \n",
              "4  190319695    08/30/2019    08/30/2019           2100        3   Southwest   \n",
              "\n",
              "   Reporting District  Crime Code Crime Code Description  \\\n",
              "0                 356         997      TRAFFIC COLLISION   \n",
              "1                 355         997      TRAFFIC COLLISION   \n",
              "2                 422         997      TRAFFIC COLLISION   \n",
              "3                 128         997      TRAFFIC COLLISION   \n",
              "4                 374         997      TRAFFIC COLLISION   \n",
              "\n",
              "                             MO Codes  Victim Age Victim Sex Victim Descent  \\\n",
              "0            3036 3004 3026 3101 4003        22.0          M              H   \n",
              "1  3037 3006 3028 3030 3039 3101 4003        30.0          F              H   \n",
              "2            3101 3401 3701 3006 3030         NaN          M              X   \n",
              "3       0605 3101 3401 3701 3011 3034        21.0          M              H   \n",
              "4       0605 4025 3037 3004 3025 3101        49.0          M              B   \n",
              "\n",
              "   Premise Code Premise Description                          Address  \\\n",
              "0         101.0              STREET  JEFFERSON                    BL   \n",
              "1         101.0              STREET  JEFFERSON                    BL   \n",
              "2         101.0              STREET                      N  BROADWAY   \n",
              "3         101.0              STREET                              1ST   \n",
              "4         101.0              STREET            MARTIN LUTHER KING JR   \n",
              "\n",
              "                         Cross Street              Location  Year Reported  \\\n",
              "0     NORMANDIE                    AV  (34.0255, -118.3002)           2019   \n",
              "1                          W  WESTERN  (34.0256, -118.3089)           2019   \n",
              "2  W  EASTLAKE                     AV  (34.0738, -118.2078)           2019   \n",
              "3                             CENTRAL  (34.0492, -118.2391)           2019   \n",
              "4     ARLINGTON                    AV  (34.0108, -118.3182)           2019   \n",
              "\n",
              "   Year Occurred  \n",
              "0           2019  \n",
              "1           2019  \n",
              "2           2019  \n",
              "3           2019  \n",
              "4           2019  "
            ]
          },
          "execution_count": 8,
          "metadata": {},
          "output_type": "execute_result"
        }
      ],
      "source": [
        "df['Year Reported'] = pd.to_datetime(df['Date Reported']).dt.year\n",
        "df['Year Occurred'] = pd.to_datetime(df['Date Occurred']).dt.year\n",
        "df.head()"
      ]
    },
    {
      "cell_type": "markdown",
      "metadata": {
        "id": "85gcDAHmH7u8"
      },
      "source": [
        "## Number of collisions through time\n",
        "\n",
        "This chart summarizes the trend in collisions over the past decade."
      ]
    },
    {
      "cell_type": "code",
      "execution_count": 9,
      "metadata": {
        "id": "v6DFlMzqH4i1"
      },
      "outputs": [
        {
          "data": {
            "image/png": "[encoded data removed]",
            "text/plain": [
              "<Figure size 2000x500 with 1 Axes>"
            ]
          },
          "metadata": {},
          "output_type": "display_data"
        }
      ],
      "source": [
        "plt.subplots(figsize = (20,5))\n",
        "v = df['Year Occurred'].value_counts()\n",
        "v.head()\n",
        "v = v.sort_index()\n",
        "v.head()\n",
        "v.plot(title='Collisions per year', xlabel='Year', ylabel = 'Number of Collisions', xticks=np.arange(2010,2024,1), marker='o')\n",
        "plt.show()"
      ]
    },
    {
      "cell_type": "markdown",
      "metadata": {
        "id": "pNr0qpEfIT7Z"
      },
      "source": [
        "**Question:** What trend do you observe? What happened in 2020? in 2021? (15 points)"
      ]
    },
    {
      "cell_type": "markdown",
      "metadata": {},
      "source": [
        "**Answer**： According to the figure, I find that before 2019, the number of collisions kept rising during this time. After 2019, the number of collison dropped significantly. I suppose the reason is that because of the pandemic in 2019, more and more people are able to work at home or use the delievery service instead of going out in person. Since there are less collision on the road."
      ]
    },
    {
      "cell_type": "markdown",
      "metadata": {},
      "source": [
        "\n",
        "## Collisions by road"
      ]
    },
    {
      "cell_type": "code",
      "execution_count": 10,
      "metadata": {
        "id": "-8KMwMtLJUIF"
      },
      "outputs": [
        {
          "name": "stdout",
          "output_type": "stream",
          "text": [
            "Top 3 roads with the most accidents:\n",
            "WESTERN                      AV: 7967 accidents\n",
            "VENTURA                      BL: 7105 accidents\n",
            "SHERMAN                      WY: 7069 accidents\n"
          ]
        }
      ],
      "source": [
        "address_count_accidents = df['Address'].value_counts()\n",
        "\n",
        "# address_count_accidents.head()\n",
        "\n",
        "# Fetching the top 3 roads with the most accidents\n",
        "top_3_accidents = address_count_accidents.head(3)\n",
        "\n",
        "print(\"Top 3 roads with the most accidents:\")\n",
        "for index, value in top_3_accidents.items():\n",
        "    print(f\"{index}: {value} accidents\")"
      ]
    },
    {
      "cell_type": "markdown",
      "metadata": {
        "id": "13BYgp2CLbcf"
      },
      "source": [
        "**Question**: On which road do the highest number of collisions occur?\n",
        "\n",
        "Does this automatically imply that this road is the most dangerous?\n",
        "\n",
        "If not, what additional information would be needed to draw such a conclusion? (15 points)\n",
        "\n",
        "\n",
        "**Answer**: WESTERN AV is the road with the highest number of collisions number. But it doesn't mean that it is the most dangeous road, since it might has the road with the most car passing. The more passing car, there will be more collisions. Therefore, I think the number of passing car for each year should be provided to obtain the possibility of collision.  "
      ]
    },
    {
      "cell_type": "markdown",
      "metadata": {},
      "source": [
        "## Collisions by age group"
      ]
    },
    {
      "cell_type": "code",
      "execution_count": 11,
      "metadata": {
        "id": "gMahmQ9WLZ_n"
      },
      "outputs": [
        {
          "data": {
            "image/png": "[encoded data removed]",
            "text/plain": [
              "<Figure size 1500x700 with 1 Axes>"
            ]
          },
          "metadata": {},
          "output_type": "display_data"
        }
      ],
      "source": [
        "plt.subplots(figsize = (15,7))\n",
        "sns.countplot(x = df['Victim Age'])\n",
        "plt.title('Collisions by Victim Age')\n",
        "plt.xticks(rotation = 90)\n",
        "plt.show()"
      ]
    },
    {
      "cell_type": "markdown",
      "metadata": {
        "id": "38JGLKhQMPVK"
      },
      "source": [
        "**Question**: How do you explain the increase in the 99 age group? How do you explain the spikes at 25, 30, 35, 40, 45... years old? (15 points)"
      ]
    },
    {
      "cell_type": "markdown",
      "metadata": {},
      "source": [
        "**Answer**: There are many reasons for the increase in 99 age group. As far as I am concerned, it may be the mistake in the data collection and people take the wrong number. As for the age groups of 25, 30,  35, 40, and 45, they are the majority who need to drive to work or trevel in all age groups. Therefore, there may more traffic collisions in this age group."
      ]
    },
    {
      "cell_type": "markdown",
      "metadata": {},
      "source": [
        "\n",
        "##Collisions by time of day"
      ]
    },
    {
      "cell_type": "code",
      "execution_count": 12,
      "metadata": {
        "id": "kLHlSLYsMAYK"
      },
      "outputs": [],
      "source": [
        "import datetime as dt\n",
        "def convert(x):\n",
        "  return dt.datetime.strptime(x, '%H:%M')\n",
        "\n",
        "def getTime(t):\n",
        "    t = str(t)\n",
        "    if len(t)==1:\n",
        "      return t[0]+':'+'00'\n",
        "    if len(t)<4:\n",
        "      return t[:1] + ':' + t[1:]\n",
        "    else:\n",
        "      return t[:2] + ':' + t[2:]"
      ]
    },
    {
      "cell_type": "code",
      "execution_count": 13,
      "metadata": {
        "id": "_6AOKujFMvIr"
      },
      "outputs": [
        {
          "data": {
            "text/html": [
              "<div>\n",
              "<style scoped>\n",
              "    .dataframe tbody tr th:only-of-type {\n",
              "        vertical-align: middle;\n",
              "    }\n",
              "\n",
              "    .dataframe tbody tr th {\n",
              "        vertical-align: top;\n",
              "    }\n",
              "\n",
              "    .dataframe thead th {\n",
              "        text-align: right;\n",
              "    }\n",
              "</style>\n",
              "<table border=\"1\" class=\"dataframe\">\n",
              "  <thead>\n",
              "    <tr style=\"text-align: right;\">\n",
              "      <th></th>\n",
              "      <th>DR Number</th>\n",
              "      <th>Date Reported</th>\n",
              "      <th>Date Occurred</th>\n",
              "      <th>Time Occurred</th>\n",
              "      <th>Area ID</th>\n",
              "      <th>Area Name</th>\n",
              "      <th>Reporting District</th>\n",
              "      <th>Crime Code</th>\n",
              "      <th>Crime Code Description</th>\n",
              "      <th>MO Codes</th>\n",
              "      <th>Victim Age</th>\n",
              "      <th>Victim Sex</th>\n",
              "      <th>Victim Descent</th>\n",
              "      <th>Premise Code</th>\n",
              "      <th>Premise Description</th>\n",
              "      <th>Address</th>\n",
              "      <th>Cross Street</th>\n",
              "      <th>Location</th>\n",
              "      <th>Year Reported</th>\n",
              "      <th>Year Occurred</th>\n",
              "    </tr>\n",
              "  </thead>\n",
              "  <tbody>\n",
              "    <tr>\n",
              "      <th>0</th>\n",
              "      <td>190319651</td>\n",
              "      <td>08/24/2019</td>\n",
              "      <td>08/24/2019</td>\n",
              "      <td>1900-01-01 04:50:00</td>\n",
              "      <td>3</td>\n",
              "      <td>Southwest</td>\n",
              "      <td>356</td>\n",
              "      <td>997</td>\n",
              "      <td>TRAFFIC COLLISION</td>\n",
              "      <td>3036 3004 3026 3101 4003</td>\n",
              "      <td>22.0</td>\n",
              "      <td>M</td>\n",
              "      <td>H</td>\n",
              "      <td>101.0</td>\n",
              "      <td>STREET</td>\n",
              "      <td>JEFFERSON                    BL</td>\n",
              "      <td>NORMANDIE                    AV</td>\n",
              "      <td>(34.0255, -118.3002)</td>\n",
              "      <td>2019</td>\n",
              "      <td>2019</td>\n",
              "    </tr>\n",
              "    <tr>\n",
              "      <th>1</th>\n",
              "      <td>190319680</td>\n",
              "      <td>08/30/2019</td>\n",
              "      <td>08/30/2019</td>\n",
              "      <td>1900-01-01 23:20:00</td>\n",
              "      <td>3</td>\n",
              "      <td>Southwest</td>\n",
              "      <td>355</td>\n",
              "      <td>997</td>\n",
              "      <td>TRAFFIC COLLISION</td>\n",
              "      <td>3037 3006 3028 3030 3039 3101 4003</td>\n",
              "      <td>30.0</td>\n",
              "      <td>F</td>\n",
              "      <td>H</td>\n",
              "      <td>101.0</td>\n",
              "      <td>STREET</td>\n",
              "      <td>JEFFERSON                    BL</td>\n",
              "      <td>W  WESTERN</td>\n",
              "      <td>(34.0256, -118.3089)</td>\n",
              "      <td>2019</td>\n",
              "      <td>2019</td>\n",
              "    </tr>\n",
              "    <tr>\n",
              "      <th>2</th>\n",
              "      <td>190413769</td>\n",
              "      <td>08/25/2019</td>\n",
              "      <td>08/25/2019</td>\n",
              "      <td>1900-01-01 05:45:00</td>\n",
              "      <td>4</td>\n",
              "      <td>Hollenbeck</td>\n",
              "      <td>422</td>\n",
              "      <td>997</td>\n",
              "      <td>TRAFFIC COLLISION</td>\n",
              "      <td>3101 3401 3701 3006 3030</td>\n",
              "      <td>NaN</td>\n",
              "      <td>M</td>\n",
              "      <td>X</td>\n",
              "      <td>101.0</td>\n",
              "      <td>STREET</td>\n",
              "      <td>N  BROADWAY</td>\n",
              "      <td>W  EASTLAKE                     AV</td>\n",
              "      <td>(34.0738, -118.2078)</td>\n",
              "      <td>2019</td>\n",
              "      <td>2019</td>\n",
              "    </tr>\n",
              "    <tr>\n",
              "      <th>3</th>\n",
              "      <td>190127578</td>\n",
              "      <td>11/20/2019</td>\n",
              "      <td>11/20/2019</td>\n",
              "      <td>1900-01-01 03:50:00</td>\n",
              "      <td>1</td>\n",
              "      <td>Central</td>\n",
              "      <td>128</td>\n",
              "      <td>997</td>\n",
              "      <td>TRAFFIC COLLISION</td>\n",
              "      <td>0605 3101 3401 3701 3011 3034</td>\n",
              "      <td>21.0</td>\n",
              "      <td>M</td>\n",
              "      <td>H</td>\n",
              "      <td>101.0</td>\n",
              "      <td>STREET</td>\n",
              "      <td>1ST</td>\n",
              "      <td>CENTRAL</td>\n",
              "      <td>(34.0492, -118.2391)</td>\n",
              "      <td>2019</td>\n",
              "      <td>2019</td>\n",
              "    </tr>\n",
              "    <tr>\n",
              "      <th>4</th>\n",
              "      <td>190319695</td>\n",
              "      <td>08/30/2019</td>\n",
              "      <td>08/30/2019</td>\n",
              "      <td>1900-01-01 21:00:00</td>\n",
              "      <td>3</td>\n",
              "      <td>Southwest</td>\n",
              "      <td>374</td>\n",
              "      <td>997</td>\n",
              "      <td>TRAFFIC COLLISION</td>\n",
              "      <td>0605 4025 3037 3004 3025 3101</td>\n",
              "      <td>49.0</td>\n",
              "      <td>M</td>\n",
              "      <td>B</td>\n",
              "      <td>101.0</td>\n",
              "      <td>STREET</td>\n",
              "      <td>MARTIN LUTHER KING JR</td>\n",
              "      <td>ARLINGTON                    AV</td>\n",
              "      <td>(34.0108, -118.3182)</td>\n",
              "      <td>2019</td>\n",
              "      <td>2019</td>\n",
              "    </tr>\n",
              "  </tbody>\n",
              "</table>\n",
              "</div>"
            ],
            "text/plain": [
              "   DR Number Date Reported Date Occurred       Time Occurred  Area ID  \\\n",
              "0  190319651    08/24/2019    08/24/2019 1900-01-01 04:50:00        3   \n",
              "1  190319680    08/30/2019    08/30/2019 1900-01-01 23:20:00        3   \n",
              "2  190413769    08/25/2019    08/25/2019 1900-01-01 05:45:00        4   \n",
              "3  190127578    11/20/2019    11/20/2019 1900-01-01 03:50:00        1   \n",
              "4  190319695    08/30/2019    08/30/2019 1900-01-01 21:00:00        3   \n",
              "\n",
              "    Area Name  Reporting District  Crime Code Crime Code Description  \\\n",
              "0   Southwest                 356         997      TRAFFIC COLLISION   \n",
              "1   Southwest                 355         997      TRAFFIC COLLISION   \n",
              "2  Hollenbeck                 422         997      TRAFFIC COLLISION   \n",
              "3     Central                 128         997      TRAFFIC COLLISION   \n",
              "4   Southwest                 374         997      TRAFFIC COLLISION   \n",
              "\n",
              "                             MO Codes  Victim Age Victim Sex Victim Descent  \\\n",
              "0            3036 3004 3026 3101 4003        22.0          M              H   \n",
              "1  3037 3006 3028 3030 3039 3101 4003        30.0          F              H   \n",
              "2            3101 3401 3701 3006 3030         NaN          M              X   \n",
              "3       0605 3101 3401 3701 3011 3034        21.0          M              H   \n",
              "4       0605 4025 3037 3004 3025 3101        49.0          M              B   \n",
              "\n",
              "   Premise Code Premise Description                          Address  \\\n",
              "0         101.0              STREET  JEFFERSON                    BL   \n",
              "1         101.0              STREET  JEFFERSON                    BL   \n",
              "2         101.0              STREET                      N  BROADWAY   \n",
              "3         101.0              STREET                              1ST   \n",
              "4         101.0              STREET            MARTIN LUTHER KING JR   \n",
              "\n",
              "                         Cross Street              Location  Year Reported  \\\n",
              "0     NORMANDIE                    AV  (34.0255, -118.3002)           2019   \n",
              "1                          W  WESTERN  (34.0256, -118.3089)           2019   \n",
              "2  W  EASTLAKE                     AV  (34.0738, -118.2078)           2019   \n",
              "3                             CENTRAL  (34.0492, -118.2391)           2019   \n",
              "4     ARLINGTON                    AV  (34.0108, -118.3182)           2019   \n",
              "\n",
              "   Year Occurred  \n",
              "0           2019  \n",
              "1           2019  \n",
              "2           2019  \n",
              "3           2019  \n",
              "4           2019  "
            ]
          },
          "execution_count": 13,
          "metadata": {},
          "output_type": "execute_result"
        }
      ],
      "source": [
        "df1 = df[(df['Year Occurred'].isin([2010, 2011, 2012, 2013, 2014, 2015, 2016, 2017, 2018, 2019, 2020, 2021, 2022, 2023]))]\n",
        "\n",
        "df1['Time Occurred']= df1['Time Occurred'].apply(getTime)\n",
        "df1['Time Occurred']=df1['Time Occurred'].apply(convert)\n",
        "df1.head()"
      ]
    },
    {
      "cell_type": "code",
      "execution_count": 14,
      "metadata": {
        "id": "GzWTCHiqMxNv"
      },
      "outputs": [
        {
          "data": {
            "text/plain": [
              "<Axes: ylabel='count'>"
            ]
          },
          "execution_count": 14,
          "metadata": {},
          "output_type": "execute_result"
        },
        {
          "data": {
            "image/png": "[encoded data removed]",
            "text/plain": [
              "<Figure size 1500x600 with 1 Axes>"
            ]
          },
          "metadata": {},
          "output_type": "display_data"
        }
      ],
      "source": [
        "hours = [t.hour for t in df1['Time Occurred'] ]\n",
        "numbers=[x for x in range(0,24)]\n",
        "# labels=map(lambda x: str(x), numbers)\n",
        "plt.subplots(figsize = (15,6))\n",
        "sns.countplot(x = hours)"
      ]
    },
    {
      "cell_type": "markdown",
      "metadata": {
        "id": "SBuF93ZzsYQO"
      },
      "source": [
        "**Question**: When are collisions more frequent? Can you form an hypothesis of why that is? What other dataset would you need to confirm your hypothesis? (20 points)"
      ]
    },
    {
      "cell_type": "markdown",
      "metadata": {},
      "source": [
        "**Answer**: When the time between the 16 and 18, the collisions are more frequent. My hypothesis is that this period is the peak sean in the whole day. There will be more viechles on the roda. To evaluate my hypothesis, I need to collect howmany cars are on the road in different time. Then compare the distributions of two set of data and fin wthether they are related."
      ]
    },
    {
      "cell_type": "markdown",
      "metadata": {
        "id": "VpOkffJjCCYU"
      },
      "source": [
        "## (Bonus) Collisions by weekday\n",
        "\n",
        "Convert the date to a weekday.\n",
        "\n",
        "Visualize the number of accidents by weekdays."
      ]
    },
    {
      "cell_type": "code",
      "execution_count": 15,
      "metadata": {
        "id": "-DXowYRyGLLa"
      },
      "outputs": [
        {
          "data": {
            "text/html": [
              "<div>\n",
              "<style scoped>\n",
              "    .dataframe tbody tr th:only-of-type {\n",
              "        vertical-align: middle;\n",
              "    }\n",
              "\n",
              "    .dataframe tbody tr th {\n",
              "        vertical-align: top;\n",
              "    }\n",
              "\n",
              "    .dataframe thead th {\n",
              "        text-align: right;\n",
              "    }\n",
              "</style>\n",
              "<table border=\"1\" class=\"dataframe\">\n",
              "  <thead>\n",
              "    <tr style=\"text-align: right;\">\n",
              "      <th></th>\n",
              "      <th>DR Number</th>\n",
              "      <th>Date Reported</th>\n",
              "      <th>Date Occurred</th>\n",
              "      <th>Time Occurred</th>\n",
              "      <th>Area ID</th>\n",
              "      <th>Area Name</th>\n",
              "      <th>Reporting District</th>\n",
              "      <th>Crime Code</th>\n",
              "      <th>Crime Code Description</th>\n",
              "      <th>MO Codes</th>\n",
              "      <th>...</th>\n",
              "      <th>Victim Sex</th>\n",
              "      <th>Victim Descent</th>\n",
              "      <th>Premise Code</th>\n",
              "      <th>Premise Description</th>\n",
              "      <th>Address</th>\n",
              "      <th>Cross Street</th>\n",
              "      <th>Location</th>\n",
              "      <th>Year Reported</th>\n",
              "      <th>Year Occurred</th>\n",
              "      <th>Weekday</th>\n",
              "    </tr>\n",
              "  </thead>\n",
              "  <tbody>\n",
              "    <tr>\n",
              "      <th>0</th>\n",
              "      <td>190319651</td>\n",
              "      <td>08/24/2019</td>\n",
              "      <td>08/24/2019</td>\n",
              "      <td>450</td>\n",
              "      <td>3</td>\n",
              "      <td>Southwest</td>\n",
              "      <td>356</td>\n",
              "      <td>997</td>\n",
              "      <td>TRAFFIC COLLISION</td>\n",
              "      <td>3036 3004 3026 3101 4003</td>\n",
              "      <td>...</td>\n",
              "      <td>M</td>\n",
              "      <td>H</td>\n",
              "      <td>101.0</td>\n",
              "      <td>STREET</td>\n",
              "      <td>JEFFERSON                    BL</td>\n",
              "      <td>NORMANDIE                    AV</td>\n",
              "      <td>(34.0255, -118.3002)</td>\n",
              "      <td>2019</td>\n",
              "      <td>2019</td>\n",
              "      <td>5</td>\n",
              "    </tr>\n",
              "    <tr>\n",
              "      <th>1</th>\n",
              "      <td>190319680</td>\n",
              "      <td>08/30/2019</td>\n",
              "      <td>08/30/2019</td>\n",
              "      <td>2320</td>\n",
              "      <td>3</td>\n",
              "      <td>Southwest</td>\n",
              "      <td>355</td>\n",
              "      <td>997</td>\n",
              "      <td>TRAFFIC COLLISION</td>\n",
              "      <td>3037 3006 3028 3030 3039 3101 4003</td>\n",
              "      <td>...</td>\n",
              "      <td>F</td>\n",
              "      <td>H</td>\n",
              "      <td>101.0</td>\n",
              "      <td>STREET</td>\n",
              "      <td>JEFFERSON                    BL</td>\n",
              "      <td>W  WESTERN</td>\n",
              "      <td>(34.0256, -118.3089)</td>\n",
              "      <td>2019</td>\n",
              "      <td>2019</td>\n",
              "      <td>4</td>\n",
              "    </tr>\n",
              "    <tr>\n",
              "      <th>2</th>\n",
              "      <td>190413769</td>\n",
              "      <td>08/25/2019</td>\n",
              "      <td>08/25/2019</td>\n",
              "      <td>545</td>\n",
              "      <td>4</td>\n",
              "      <td>Hollenbeck</td>\n",
              "      <td>422</td>\n",
              "      <td>997</td>\n",
              "      <td>TRAFFIC COLLISION</td>\n",
              "      <td>3101 3401 3701 3006 3030</td>\n",
              "      <td>...</td>\n",
              "      <td>M</td>\n",
              "      <td>X</td>\n",
              "      <td>101.0</td>\n",
              "      <td>STREET</td>\n",
              "      <td>N  BROADWAY</td>\n",
              "      <td>W  EASTLAKE                     AV</td>\n",
              "      <td>(34.0738, -118.2078)</td>\n",
              "      <td>2019</td>\n",
              "      <td>2019</td>\n",
              "      <td>6</td>\n",
              "    </tr>\n",
              "    <tr>\n",
              "      <th>3</th>\n",
              "      <td>190127578</td>\n",
              "      <td>11/20/2019</td>\n",
              "      <td>11/20/2019</td>\n",
              "      <td>350</td>\n",
              "      <td>1</td>\n",
              "      <td>Central</td>\n",
              "      <td>128</td>\n",
              "      <td>997</td>\n",
              "      <td>TRAFFIC COLLISION</td>\n",
              "      <td>0605 3101 3401 3701 3011 3034</td>\n",
              "      <td>...</td>\n",
              "      <td>M</td>\n",
              "      <td>H</td>\n",
              "      <td>101.0</td>\n",
              "      <td>STREET</td>\n",
              "      <td>1ST</td>\n",
              "      <td>CENTRAL</td>\n",
              "      <td>(34.0492, -118.2391)</td>\n",
              "      <td>2019</td>\n",
              "      <td>2019</td>\n",
              "      <td>2</td>\n",
              "    </tr>\n",
              "    <tr>\n",
              "      <th>4</th>\n",
              "      <td>190319695</td>\n",
              "      <td>08/30/2019</td>\n",
              "      <td>08/30/2019</td>\n",
              "      <td>2100</td>\n",
              "      <td>3</td>\n",
              "      <td>Southwest</td>\n",
              "      <td>374</td>\n",
              "      <td>997</td>\n",
              "      <td>TRAFFIC COLLISION</td>\n",
              "      <td>0605 4025 3037 3004 3025 3101</td>\n",
              "      <td>...</td>\n",
              "      <td>M</td>\n",
              "      <td>B</td>\n",
              "      <td>101.0</td>\n",
              "      <td>STREET</td>\n",
              "      <td>MARTIN LUTHER KING JR</td>\n",
              "      <td>ARLINGTON                    AV</td>\n",
              "      <td>(34.0108, -118.3182)</td>\n",
              "      <td>2019</td>\n",
              "      <td>2019</td>\n",
              "      <td>4</td>\n",
              "    </tr>\n",
              "  </tbody>\n",
              "</table>\n",
              "<p>5 rows × 21 columns</p>\n",
              "</div>"
            ],
            "text/plain": [
              "   DR Number Date Reported Date Occurred  Time Occurred  Area ID   Area Name  \\\n",
              "0  190319651    08/24/2019    08/24/2019            450        3   Southwest   \n",
              "1  190319680    08/30/2019    08/30/2019           2320        3   Southwest   \n",
              "2  190413769    08/25/2019    08/25/2019            545        4  Hollenbeck   \n",
              "3  190127578    11/20/2019    11/20/2019            350        1     Central   \n",
              "4  190319695    08/30/2019    08/30/2019           2100        3   Southwest   \n",
              "\n",
              "   Reporting District  Crime Code Crime Code Description  \\\n",
              "0                 356         997      TRAFFIC COLLISION   \n",
              "1                 355         997      TRAFFIC COLLISION   \n",
              "2                 422         997      TRAFFIC COLLISION   \n",
              "3                 128         997      TRAFFIC COLLISION   \n",
              "4                 374         997      TRAFFIC COLLISION   \n",
              "\n",
              "                             MO Codes  ...  Victim Sex Victim Descent  \\\n",
              "0            3036 3004 3026 3101 4003  ...           M              H   \n",
              "1  3037 3006 3028 3030 3039 3101 4003  ...           F              H   \n",
              "2            3101 3401 3701 3006 3030  ...           M              X   \n",
              "3       0605 3101 3401 3701 3011 3034  ...           M              H   \n",
              "4       0605 4025 3037 3004 3025 3101  ...           M              B   \n",
              "\n",
              "  Premise Code  Premise Description                          Address  \\\n",
              "0        101.0               STREET  JEFFERSON                    BL   \n",
              "1        101.0               STREET  JEFFERSON                    BL   \n",
              "2        101.0               STREET                      N  BROADWAY   \n",
              "3        101.0               STREET                              1ST   \n",
              "4        101.0               STREET            MARTIN LUTHER KING JR   \n",
              "\n",
              "                         Cross Street              Location Year Reported  \\\n",
              "0     NORMANDIE                    AV  (34.0255, -118.3002)          2019   \n",
              "1                          W  WESTERN  (34.0256, -118.3089)          2019   \n",
              "2  W  EASTLAKE                     AV  (34.0738, -118.2078)          2019   \n",
              "3                             CENTRAL  (34.0492, -118.2391)          2019   \n",
              "4     ARLINGTON                    AV  (34.0108, -118.3182)          2019   \n",
              "\n",
              "   Year Occurred  Weekday  \n",
              "0           2019        5  \n",
              "1           2019        4  \n",
              "2           2019        6  \n",
              "3           2019        2  \n",
              "4           2019        4  \n",
              "\n",
              "[5 rows x 21 columns]"
            ]
          },
          "execution_count": 15,
          "metadata": {},
          "output_type": "execute_result"
        }
      ],
      "source": [
        "#Create new dataframe column for Weekday\n",
        "df['Weekday'] = pd.to_datetime(df['Date Occurred']).dt.weekday\n",
        "\n",
        "#Visialize the number of accidents by weekdays\n",
        "#Your code here#\n",
        "df.head()\n"
      ]
    },
    {
      "cell_type": "code",
      "execution_count": 16,
      "metadata": {},
      "outputs": [
        {
          "data": {
            "text/plain": [
              "Weekday\n",
              "4    94411\n",
              "5    86800\n",
              "3    85820\n",
              "2    84524\n",
              "1    83819\n",
              "0    82291\n",
              "6    79130\n",
              "Name: count, dtype: int64"
            ]
          },
          "execution_count": 16,
          "metadata": {},
          "output_type": "execute_result"
        }
      ],
      "source": [
        "# get the statistic data for each weekday.\n",
        "value_weekday = df[\"Weekday\"].value_counts()\n",
        "value_weekday\n",
        "# print(type(value_weekday))"
      ]
    },
    {
      "cell_type": "code",
      "execution_count": 17,
      "metadata": {},
      "outputs": [
        {
          "name": "stdout",
          "output_type": "stream",
          "text": [
            "[0, 1, 2, 3, 4, 5, 6]\n",
            "[82291, 83819, 84524, 85820, 94411, 86800, 79130]\n"
          ]
        }
      ],
      "source": [
        "# change the data shape from the dataframe.\n",
        "dict_value = value_weekday.to_dict()\n",
        "x_axis = [day for day in range(min(value_weekday.keys()), max(value_weekday.keys())+1)]\n",
        "y_axis = [dict_value[day] for day in x_axis ]\n",
        "\n",
        "print(x_axis)\n",
        "print(y_axis)"
      ]
    },
    {
      "cell_type": "code",
      "execution_count": 18,
      "metadata": {},
      "outputs": [
        {
          "data": {
            "image/png": "[encoded data removed]",
            "text/plain": [
              "<Figure size 640x480 with 1 Axes>"
            ]
          },
          "metadata": {},
          "output_type": "display_data"
        }
      ],
      "source": [
        "# Plot the data\n",
        "plt.bar(x_axis, y_axis)\n",
        "plt.show()"
      ]
    },
    {
      "cell_type": "markdown",
      "metadata": {
        "id": "4J3ZKeIqDv_S"
      },
      "source": [
        "**Question**:\n",
        "Which day has the most number of collisions? (15 points)"
      ]
    },
    {
      "cell_type": "markdown",
      "metadata": {},
      "source": [
        "**Answer**: Friday has the most number of collision."
      ]
    }
  ],
  "metadata": {
    "colab": {
      "provenance": []
    },
    "kernelspec": {
      "display_name": "Python 3",
      "language": "python",
      "name": "python3"
    },
    "language_info": {
      "codemirror_mode": {
        "name": "ipython",
        "version": 3
      },
      "file_extension": ".py",
      "mimetype": "text/x-python",
      "name": "python",
      "nbconvert_exporter": "python",
      "pygments_lexer": "ipython3",
      "version": "3.8.17"
    }
  },
  "nbformat": 4,
  "nbformat_minor": 0
}
